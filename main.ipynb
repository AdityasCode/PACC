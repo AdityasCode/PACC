{
 "cells": [
  {
   "cell_type": "code",
   "id": "339359785c494912",
   "metadata": {
    "collapsed": true,
    "ExecuteTime": {
     "end_time": "2024-07-01T14:44:03.157416Z",
     "start_time": "2024-07-01T14:44:01.921434Z"
    }
   },
   "source": [
    "import streamlit as st\n",
    "\n",
    "print(\"hello\")\n",
    "# Import necessary libraries\n",
    "import ee\n",
    "import geopy\n",
    "\n",
    "# Initialize the Earth Engine API\n",
    "ee.Authenticate()\n",
    "ee.Initialize(project=\"1030170391022\")\n",
    "\n",
    "# Function to get the coordinates of a city using Geopy\n",
    "def get_city_coordinates(city_name):\n",
    "    geolocator = geopy.Photon(user_agent=\"pacc-24\")\n",
    "    location = geolocator.geocode(city_name)\n",
    "    return location.latitude, location.longitude\n",
    "\n",
    "\n",
    "# Function to get climate data for a given city\n",
    "def get_climate_data(city_name):\n",
    "    # Get city coordinates\n",
    "    lat, lon = get_city_coordinates(city_name)\n",
    "\n",
    "    # Define the point of interest\n",
    "    point = ee.Geometry.Point(lon, lat)\n",
    "\n",
    "    # Load a dataset, for example, the ERA5 Daily Aggregate dataset for temperature\n",
    "    dataset = ee.ImageCollection('ECMWF/ERA5/DAILY') \\\n",
    "        .filterBounds(point) \\\n",
    "        .filterDate('2023-01-01', '2023-12-31')\n",
    "\n",
    "    # Select the temperature band (2m air temperature)\n",
    "    temperature = dataset.select('mean_2m_air_temperature')\n",
    "\n",
    "    # Calculate the mean temperature for the year\n",
    "    mean_temp = temperature.mean().reduceRegion(\n",
    "        reducer=ee.Reducer.mean(),\n",
    "        geometry=point,\n",
    "        scale=1000\n",
    "    )\n",
    "    print(f\"-*100\\n{lat, lon}\")\n",
    "    print(f\"-*100\\n{dataset}\")\n",
    "    print(f\"-*100\\n{temperature}\")\n",
    "    print(f\"-*100\\n{mean_temp}\")\n",
    "    # Get the temperature in Celsius\n",
    "    # temp_celsius = mean_temp.get('mean_2m_air_temperature').getInfo() - 273.15\n",
    "\n",
    "    return mean_temp\n",
    "\n",
    "def get_future_temperature(city_name):\n",
    "    # Get the coordinates of the city using geopy.\n",
    "    # latitude, longitude = get_city_coordinates(city_name)\n",
    "\n",
    "    # Define the point of interest.\n",
    "    # point = ee.Geometry.Point([longitude, latitude])\n",
    "\n",
    "    # Load the GFS forecast dataset.\n",
    "    dataset = ee.ImageCollection('NOAA/GFS0P25')\n",
    "\n",
    "    # Filter the dataset to a specific forecast time.\n",
    "    # Set the forecast time to today at 12 noon.\n",
    "    forecast_time = ee.Date('2024-07-01T09:00:00')\n",
    "    forecast_image = dataset.filter(ee.Filter.date(forecast_time)).first()\n",
    "\n",
    "    # Select the temperature band.\n",
    "    temperature_band = forecast_image.select('temperature_2m_above_ground')\n",
    "    return temperature_band\n",
    "\n",
    "\n",
    "def get_from_band(temperature_band, point):\n",
    "        # Get the temperature value at the specified point.\n",
    "    temperature = temperature_band.reduceRegion(\n",
    "        reducer=ee.Reducer.mean(),\n",
    "        geometry=point,\n",
    "        scale=1000\n",
    "    ).get('temperature_2m_above_ground').getInfo()\n",
    "\n",
    "    return temperature\n"
   ],
   "outputs": [
    {
     "name": "stdout",
     "output_type": "stream",
     "text": [
      "hello\n"
     ]
    }
   ],
   "execution_count": 35
  },
  {
   "metadata": {
    "ExecuteTime": {
     "end_time": "2024-07-01T14:44:03.160666Z",
     "start_time": "2024-07-01T14:44:03.158640Z"
    }
   },
   "cell_type": "code",
   "source": [
    "# Example usage\n",
    "city_name = 'New Delhi'"
   ],
   "id": "a035c842dda5ea0b",
   "outputs": [],
   "execution_count": 36
  },
  {
   "metadata": {
    "ExecuteTime": {
     "end_time": "2024-07-01T14:44:04.210428Z",
     "start_time": "2024-07-01T14:44:03.161195Z"
    }
   },
   "cell_type": "code",
   "source": [
    "latitude, longitude = get_city_coordinates(city_name)\n",
    "point = ee.Geometry.Point([latitude, longitude])"
   ],
   "id": "921f6509fea1a2d9",
   "outputs": [],
   "execution_count": 37
  },
  {
   "metadata": {
    "ExecuteTime": {
     "end_time": "2024-07-01T14:44:04.219903Z",
     "start_time": "2024-07-01T14:44:04.213890Z"
    }
   },
   "cell_type": "code",
   "source": "temperature_band = get_future_temperature(city_name)",
   "id": "db3076fb4ef8d7af",
   "outputs": [],
   "execution_count": 38
  },
  {
   "metadata": {
    "ExecuteTime": {
     "end_time": "2024-07-01T14:44:04.805953Z",
     "start_time": "2024-07-01T14:44:04.221341Z"
    }
   },
   "cell_type": "code",
   "source": [
    "temperature = get_from_band(temperature_band, point)\n",
    "print(temperature)"
   ],
   "id": "cf0f762672bd546d",
   "outputs": [
    {
     "ename": "EEException",
     "evalue": "Image.select: Parameter 'input' is required.",
     "output_type": "error",
     "traceback": [
      "\u001B[0;31m---------------------------------------------------------------------------\u001B[0m",
      "\u001B[0;31mHttpError\u001B[0m                                 Traceback (most recent call last)",
      "File \u001B[0;32m~/PycharmProjects/PACC/.venv/lib/python3.11/site-packages/ee/data.py:402\u001B[0m, in \u001B[0;36m_execute_cloud_call\u001B[0;34m(call, num_retries)\u001B[0m\n\u001B[1;32m    401\u001B[0m \u001B[38;5;28;01mtry\u001B[39;00m:\n\u001B[0;32m--> 402\u001B[0m   \u001B[38;5;28;01mreturn\u001B[39;00m \u001B[43mcall\u001B[49m\u001B[38;5;241;43m.\u001B[39;49m\u001B[43mexecute\u001B[49m\u001B[43m(\u001B[49m\u001B[43mnum_retries\u001B[49m\u001B[38;5;241;43m=\u001B[39;49m\u001B[43mnum_retries\u001B[49m\u001B[43m)\u001B[49m\n\u001B[1;32m    403\u001B[0m \u001B[38;5;28;01mexcept\u001B[39;00m googleapiclient\u001B[38;5;241m.\u001B[39merrors\u001B[38;5;241m.\u001B[39mHttpError \u001B[38;5;28;01mas\u001B[39;00m e:\n",
      "File \u001B[0;32m~/PycharmProjects/PACC/.venv/lib/python3.11/site-packages/googleapiclient/_helpers.py:130\u001B[0m, in \u001B[0;36mpositional.<locals>.positional_decorator.<locals>.positional_wrapper\u001B[0;34m(*args, **kwargs)\u001B[0m\n\u001B[1;32m    129\u001B[0m         logger\u001B[38;5;241m.\u001B[39mwarning(message)\n\u001B[0;32m--> 130\u001B[0m \u001B[38;5;28;01mreturn\u001B[39;00m \u001B[43mwrapped\u001B[49m\u001B[43m(\u001B[49m\u001B[38;5;241;43m*\u001B[39;49m\u001B[43margs\u001B[49m\u001B[43m,\u001B[49m\u001B[43m \u001B[49m\u001B[38;5;241;43m*\u001B[39;49m\u001B[38;5;241;43m*\u001B[39;49m\u001B[43mkwargs\u001B[49m\u001B[43m)\u001B[49m\n",
      "File \u001B[0;32m~/PycharmProjects/PACC/.venv/lib/python3.11/site-packages/googleapiclient/http.py:938\u001B[0m, in \u001B[0;36mHttpRequest.execute\u001B[0;34m(self, http, num_retries)\u001B[0m\n\u001B[1;32m    937\u001B[0m \u001B[38;5;28;01mif\u001B[39;00m resp\u001B[38;5;241m.\u001B[39mstatus \u001B[38;5;241m>\u001B[39m\u001B[38;5;241m=\u001B[39m \u001B[38;5;241m300\u001B[39m:\n\u001B[0;32m--> 938\u001B[0m     \u001B[38;5;28;01mraise\u001B[39;00m HttpError(resp, content, uri\u001B[38;5;241m=\u001B[39m\u001B[38;5;28mself\u001B[39m\u001B[38;5;241m.\u001B[39muri)\n\u001B[1;32m    939\u001B[0m \u001B[38;5;28;01mreturn\u001B[39;00m \u001B[38;5;28mself\u001B[39m\u001B[38;5;241m.\u001B[39mpostproc(resp, content)\n",
      "\u001B[0;31mHttpError\u001B[0m: <HttpError 400 when requesting https://earthengine.googleapis.com/v1/projects/1030170391022/value:compute?prettyPrint=false&alt=json returned \"Image.select: Parameter 'input' is required.\". Details: \"Image.select: Parameter 'input' is required.\">",
      "\nDuring handling of the above exception, another exception occurred:\n",
      "\u001B[0;31mEEException\u001B[0m                               Traceback (most recent call last)",
      "Cell \u001B[0;32mIn[39], line 1\u001B[0m\n\u001B[0;32m----> 1\u001B[0m temperature \u001B[38;5;241m=\u001B[39m \u001B[43mget_from_band\u001B[49m\u001B[43m(\u001B[49m\u001B[43mtemperature_band\u001B[49m\u001B[43m,\u001B[49m\u001B[43m \u001B[49m\u001B[43mpoint\u001B[49m\u001B[43m)\u001B[49m\n\u001B[1;32m      2\u001B[0m \u001B[38;5;28mprint\u001B[39m(temperature)\n",
      "Cell \u001B[0;32mIn[35], line 76\u001B[0m, in \u001B[0;36mget_from_band\u001B[0;34m(temperature_band, point)\u001B[0m\n\u001B[1;32m     70\u001B[0m \u001B[38;5;28;01mdef\u001B[39;00m \u001B[38;5;21mget_from_band\u001B[39m(temperature_band, point):\n\u001B[1;32m     71\u001B[0m         \u001B[38;5;66;03m# Get the temperature value at the specified point.\u001B[39;00m\n\u001B[1;32m     72\u001B[0m     temperature \u001B[38;5;241m=\u001B[39m \u001B[43mtemperature_band\u001B[49m\u001B[38;5;241;43m.\u001B[39;49m\u001B[43mreduceRegion\u001B[49m\u001B[43m(\u001B[49m\n\u001B[1;32m     73\u001B[0m \u001B[43m        \u001B[49m\u001B[43mreducer\u001B[49m\u001B[38;5;241;43m=\u001B[39;49m\u001B[43mee\u001B[49m\u001B[38;5;241;43m.\u001B[39;49m\u001B[43mReducer\u001B[49m\u001B[38;5;241;43m.\u001B[39;49m\u001B[43mmean\u001B[49m\u001B[43m(\u001B[49m\u001B[43m)\u001B[49m\u001B[43m,\u001B[49m\n\u001B[1;32m     74\u001B[0m \u001B[43m        \u001B[49m\u001B[43mgeometry\u001B[49m\u001B[38;5;241;43m=\u001B[39;49m\u001B[43mpoint\u001B[49m\u001B[43m,\u001B[49m\n\u001B[1;32m     75\u001B[0m \u001B[43m        \u001B[49m\u001B[43mscale\u001B[49m\u001B[38;5;241;43m=\u001B[39;49m\u001B[38;5;241;43m1000\u001B[39;49m\n\u001B[0;32m---> 76\u001B[0m \u001B[43m    \u001B[49m\u001B[43m)\u001B[49m\u001B[38;5;241;43m.\u001B[39;49m\u001B[43mget\u001B[49m\u001B[43m(\u001B[49m\u001B[38;5;124;43m'\u001B[39;49m\u001B[38;5;124;43mtemperature_2m_above_ground\u001B[39;49m\u001B[38;5;124;43m'\u001B[39;49m\u001B[43m)\u001B[49m\u001B[38;5;241;43m.\u001B[39;49m\u001B[43mgetInfo\u001B[49m\u001B[43m(\u001B[49m\u001B[43m)\u001B[49m\n\u001B[1;32m     78\u001B[0m     \u001B[38;5;28;01mreturn\u001B[39;00m temperature\n",
      "File \u001B[0;32m~/PycharmProjects/PACC/.venv/lib/python3.11/site-packages/ee/computedobject.py:107\u001B[0m, in \u001B[0;36mComputedObject.getInfo\u001B[0;34m(self)\u001B[0m\n\u001B[1;32m    101\u001B[0m \u001B[38;5;28;01mdef\u001B[39;00m \u001B[38;5;21mgetInfo\u001B[39m(\u001B[38;5;28mself\u001B[39m) \u001B[38;5;241m-\u001B[39m\u001B[38;5;241m>\u001B[39m Optional[Any]:\n\u001B[1;32m    102\u001B[0m \u001B[38;5;250m  \u001B[39m\u001B[38;5;124;03m\"\"\"Fetch and return information about this object.\u001B[39;00m\n\u001B[1;32m    103\u001B[0m \n\u001B[1;32m    104\u001B[0m \u001B[38;5;124;03m  Returns:\u001B[39;00m\n\u001B[1;32m    105\u001B[0m \u001B[38;5;124;03m    The object can evaluate to anything.\u001B[39;00m\n\u001B[1;32m    106\u001B[0m \u001B[38;5;124;03m  \"\"\"\u001B[39;00m\n\u001B[0;32m--> 107\u001B[0m   \u001B[38;5;28;01mreturn\u001B[39;00m \u001B[43mdata\u001B[49m\u001B[38;5;241;43m.\u001B[39;49m\u001B[43mcomputeValue\u001B[49m\u001B[43m(\u001B[49m\u001B[38;5;28;43mself\u001B[39;49m\u001B[43m)\u001B[49m\n",
      "File \u001B[0;32m~/PycharmProjects/PACC/.venv/lib/python3.11/site-packages/ee/data.py:1108\u001B[0m, in \u001B[0;36mcomputeValue\u001B[0;34m(obj)\u001B[0m\n\u001B[1;32m   1105\u001B[0m body \u001B[38;5;241m=\u001B[39m {\u001B[38;5;124m'\u001B[39m\u001B[38;5;124mexpression\u001B[39m\u001B[38;5;124m'\u001B[39m: serializer\u001B[38;5;241m.\u001B[39mencode(obj, for_cloud_api\u001B[38;5;241m=\u001B[39m\u001B[38;5;28;01mTrue\u001B[39;00m)}\n\u001B[1;32m   1106\u001B[0m _maybe_populate_workload_tag(body)\n\u001B[0;32m-> 1108\u001B[0m \u001B[38;5;28;01mreturn\u001B[39;00m \u001B[43m_execute_cloud_call\u001B[49m\u001B[43m(\u001B[49m\n\u001B[1;32m   1109\u001B[0m \u001B[43m    \u001B[49m\u001B[43m_get_cloud_projects\u001B[49m\u001B[43m(\u001B[49m\u001B[43m)\u001B[49m\n\u001B[1;32m   1110\u001B[0m \u001B[43m    \u001B[49m\u001B[38;5;241;43m.\u001B[39;49m\u001B[43mvalue\u001B[49m\u001B[43m(\u001B[49m\u001B[43m)\u001B[49m\n\u001B[1;32m   1111\u001B[0m \u001B[43m    \u001B[49m\u001B[38;5;241;43m.\u001B[39;49m\u001B[43mcompute\u001B[49m\u001B[43m(\u001B[49m\u001B[43mbody\u001B[49m\u001B[38;5;241;43m=\u001B[39;49m\u001B[43mbody\u001B[49m\u001B[43m,\u001B[49m\u001B[43m \u001B[49m\u001B[43mproject\u001B[49m\u001B[38;5;241;43m=\u001B[39;49m\u001B[43m_get_projects_path\u001B[49m\u001B[43m(\u001B[49m\u001B[43m)\u001B[49m\u001B[43m,\u001B[49m\u001B[43m \u001B[49m\u001B[43mprettyPrint\u001B[49m\u001B[38;5;241;43m=\u001B[39;49m\u001B[38;5;28;43;01mFalse\u001B[39;49;00m\u001B[43m)\u001B[49m\n\u001B[1;32m   1112\u001B[0m \u001B[43m\u001B[49m\u001B[43m)\u001B[49m[\u001B[38;5;124m'\u001B[39m\u001B[38;5;124mresult\u001B[39m\u001B[38;5;124m'\u001B[39m]\n",
      "File \u001B[0;32m~/PycharmProjects/PACC/.venv/lib/python3.11/site-packages/ee/data.py:404\u001B[0m, in \u001B[0;36m_execute_cloud_call\u001B[0;34m(call, num_retries)\u001B[0m\n\u001B[1;32m    402\u001B[0m   \u001B[38;5;28;01mreturn\u001B[39;00m call\u001B[38;5;241m.\u001B[39mexecute(num_retries\u001B[38;5;241m=\u001B[39mnum_retries)\n\u001B[1;32m    403\u001B[0m \u001B[38;5;28;01mexcept\u001B[39;00m googleapiclient\u001B[38;5;241m.\u001B[39merrors\u001B[38;5;241m.\u001B[39mHttpError \u001B[38;5;28;01mas\u001B[39;00m e:\n\u001B[0;32m--> 404\u001B[0m   \u001B[38;5;28;01mraise\u001B[39;00m _translate_cloud_exception(e)\n",
      "\u001B[0;31mEEException\u001B[0m: Image.select: Parameter 'input' is required."
     ]
    }
   ],
   "execution_count": 39
  },
  {
   "metadata": {
    "ExecuteTime": {
     "end_time": "2024-07-01T14:44:04.811059Z",
     "start_time": "2024-07-01T14:44:04.810793Z"
    }
   },
   "cell_type": "code",
   "source": [
    "\n",
    "# Assuming 'mean_temp' is the Earth Engine Dictionary object\n",
    "mean_temp_dict = ee.Dictionary(temperature)\n",
    "\n",
    "# Extract the temperature in Kelvin using the .get() method\n",
    "temp_kelvin = mean_temp_dict.get('mean_2m_air_temperature').getInfo()\n",
    "\n",
    "# Convert the temperature from Kelvin to Celsius\n",
    "if temp_kelvin is not None:\n",
    "    temp_celsius = temp_kelvin - 273.15\n",
    "    print(f'The mean temperature is {temp_celsius:.2f}°C')\n",
    "else:\n",
    "    print('Temperature data not available')"
   ],
   "id": "initial_id",
   "outputs": [],
   "execution_count": null
  }
 ],
 "metadata": {
  "kernelspec": {
   "display_name": "Python 3",
   "language": "python",
   "name": "python3"
  },
  "language_info": {
   "codemirror_mode": {
    "name": "ipython",
    "version": 2
   },
   "file_extension": ".py",
   "mimetype": "text/x-python",
   "name": "python",
   "nbconvert_exporter": "python",
   "pygments_lexer": "ipython2",
   "version": "2.7.6"
  }
 },
 "nbformat": 4,
 "nbformat_minor": 5
}
